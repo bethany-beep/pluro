{
 "cells": [
  {
   "cell_type": "code",
   "execution_count": null,
   "metadata": {},
   "outputs": [],
   "source": [
    "import os\n",
    "\n",
    "credentials: dict = {\n",
    "    'username': os.environ['DB_USERNAME'],\n",
    "    'password': os.environ['DB_PASSWORD'],\n",
    "    'host': os.environ['DB_HOST'],\n",
    "    'port': os.environ['DB_PORT'],\n",
    "    'dbname': os.environ['DB_NAME']\n",
    "}"
   ]
  }
 ],
 "metadata": {
  "kernelspec": {
   "display_name": "Python 3",
   "language": "python",
   "name": "python3"
  },
  "language_info": {
   "codemirror_mode": {
    "name": "ipython",
    "version": 3
   },
   "file_extension": ".py",
   "mimetype": "text/x-python",
   "name": "python",
   "nbconvert_exporter": "python",
   "pygments_lexer": "ipython3",
   "version": "3.7.7"
  }
 },
 "nbformat": 4,
 "nbformat_minor": 4
}
